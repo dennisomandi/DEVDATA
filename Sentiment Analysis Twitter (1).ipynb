{
 "cells": [
  {
   "cell_type": "markdown",
   "id": "45d238fc",
   "metadata": {},
   "source": [
    "### Import the necessarry libraries and methods. ###"
   ]
  },
  {
   "cell_type": "code",
   "execution_count": null,
   "id": "9a65276c",
   "metadata": {},
   "outputs": [],
   "source": [
    "import pandas as pd\n",
    "import numpy as np\n",
    "import re\n",
    "import string\n",
    "\n",
    "## methods and stopword processing\n",
    "from nltk.corpus import stopwords\n",
    "from nltk.tokenize import word_tokenize\n",
    "from nltk.stem import PorterStemmer\n",
    "from nltk.stem import WordNetLemmatizer\n",
    "from sklearn.model_selection import train_test_split\n",
    "\n",
    "##import machine learning libraries\n",
    "from sklearn.metrics import accuracy_score\n",
    "from sklearn.naive_bayes import MultinomialNB\n",
    "from sklearn.linear_model import LogisticRegression\n",
    "from sklearn.svm import SVC\n",
    "\n",
    "import warnings\n",
    "warnings.filterwarnings(\"ignore\")"
   ]
  },
  {
   "cell_type": "code",
   "execution_count": 16,
   "id": "ad2c7853",
   "metadata": {},
   "outputs": [
    {
     "name": "stdout",
     "output_type": "stream",
     "text": [
      "   0  1467810369  Mon Apr 06 22:19:45 PDT 2009  NO_QUERY _TheSpecialOne_  \\\n",
      "0  0  1467810672  Mon Apr 06 22:19:49 PDT 2009  NO_QUERY   scotthamilton   \n",
      "1  0  1467810917  Mon Apr 06 22:19:53 PDT 2009  NO_QUERY        mattycus   \n",
      "2  0  1467811184  Mon Apr 06 22:19:57 PDT 2009  NO_QUERY         ElleCTF   \n",
      "3  0  1467811193  Mon Apr 06 22:19:57 PDT 2009  NO_QUERY          Karoli   \n",
      "4  0  1467811372  Mon Apr 06 22:20:00 PDT 2009  NO_QUERY        joy_wolf   \n",
      "\n",
      "  @switchfoot http://twitpic.com/2y1zl - Awww, that's a bummer.  You shoulda got David Carr of Third Day to do it. ;D  \n",
      "0  is upset that he can't update his Facebook by ...                                                                   \n",
      "1  @Kenichan I dived many times for the ball. Man...                                                                   \n",
      "2    my whole body feels itchy and like its on fire                                                                    \n",
      "3  @nationwideclass no, it's not behaving at all....                                                                   \n",
      "4                      @Kwesidei not the whole crew                                                                    \n"
     ]
    }
   ],
   "source": [
    "df = pd.read_csv(r\"C:\\Users\\ADMIN\\Downloads\\twitter\\training.1600000.processed.noemoticon.csv\", encoding =\"ISO-8859-1\")\n",
    "print(df.head())"
   ]
  },
  {
   "cell_type": "markdown",
   "id": "bf276cdf",
   "metadata": {},
   "source": [
    "## checking if the data that has null values."
   ]
  },
  {
   "cell_type": "code",
   "execution_count": 17,
   "id": "e01b7f8e",
   "metadata": {
    "scrolled": true
   },
   "outputs": [
    {
     "data": {
      "text/plain": [
       "0                                                                                                                      0\n",
       "1467810369                                                                                                             0\n",
       "Mon Apr 06 22:19:45 PDT 2009                                                                                           0\n",
       "NO_QUERY                                                                                                               0\n",
       "_TheSpecialOne_                                                                                                        0\n",
       "@switchfoot http://twitpic.com/2y1zl - Awww, that's a bummer.  You shoulda got David Carr of Third Day to do it. ;D    0\n",
       "dtype: int64"
      ]
     },
     "execution_count": 17,
     "metadata": {},
     "output_type": "execute_result"
    }
   ],
   "source": [
    "df.isnull().sum()"
   ]
  },
  {
   "cell_type": "markdown",
   "id": "313af6ae",
   "metadata": {},
   "source": [
    "## dropping the null values from the data"
   ]
  },
  {
   "cell_type": "code",
   "execution_count": 24,
   "id": "41f362e5",
   "metadata": {},
   "outputs": [
    {
     "name": "stdout",
     "output_type": "stream",
     "text": [
      "The Column Header : ['0', '1467810369', 'Mon Apr 06 22:19:45 PDT 2009', 'NO_QUERY', '_TheSpecialOne_', \"@switchfoot http://twitpic.com/2y1zl - Awww, that's a bummer.  You shoulda got David Carr of Third Day to do it. ;D\"]\n"
     ]
    }
   ],
   "source": [
    "column_headers = df.columns.values.tolist()\n",
    "print(\"The Column Header :\", column_headers)"
   ]
  },
  {
   "cell_type": "code",
   "execution_count": 18,
   "id": "a6be788e",
   "metadata": {},
   "outputs": [],
   "source": [
    "df = df.dropna()"
   ]
  },
  {
   "cell_type": "code",
   "execution_count": 20,
   "id": "448fb731",
   "metadata": {},
   "outputs": [
    {
     "name": "stdout",
     "output_type": "stream",
     "text": [
      "<class 'pandas.core.frame.DataFrame'>\n",
      "RangeIndex: 1599999 entries, 0 to 1599998\n",
      "Data columns (total 6 columns):\n",
      " #   Column                                                                                                               Non-Null Count    Dtype \n",
      "---  ------                                                                                                               --------------    ----- \n",
      " 0   0                                                                                                                    1599999 non-null  int64 \n",
      " 1   1467810369                                                                                                           1599999 non-null  int64 \n",
      " 2   Mon Apr 06 22:19:45 PDT 2009                                                                                         1599999 non-null  object\n",
      " 3   NO_QUERY                                                                                                             1599999 non-null  object\n",
      " 4   _TheSpecialOne_                                                                                                      1599999 non-null  object\n",
      " 5   @switchfoot http://twitpic.com/2y1zl - Awww, that's a bummer.  You shoulda got David Carr of Third Day to do it. ;D  1599999 non-null  object\n",
      "dtypes: int64(2), object(4)\n",
      "memory usage: 73.2+ MB\n"
     ]
    }
   ],
   "source": [
    "df.info(5)"
   ]
  },
  {
   "cell_type": "markdown",
   "id": "dd6631d1",
   "metadata": {},
   "source": [
    "# Preprocessing the Tweet Text\n",
    "### 1. Casing\n",
    "### 2. Noise Removal\n",
    "### 3. Tokenization\n",
    "### 4. Stopword Removal\n",
    "### 5. Text Normalization"
   ]
  },
  {
   "cell_type": "code",
   "execution_count": 40,
   "id": "84db7d2a",
   "metadata": {},
   "outputs": [],
   "source": [
    "def pre_process_tweet_text(tweet):\n",
    "    \n",
    "    #convert all tweets to lowercase\n",
    "    tweet = tweet.lower()\n",
    "    \n",
    "    #remove any urls in the tweets\n",
    "    tweet = re.sub(r\"http\\S+ | www\\S+ | https\\S+\", \" \", tweet, flags=re.MULTILINE)\n",
    "                   \n",
    "    #remove punctuations\n",
    "    tweet = tweet.translate(str.maketrans(\" \", \" \", string.punctuation))\n",
    "                   \n",
    "    #remove user @ and tweet #\n",
    "    tweet = re.sub(r'\\a\\w+ | #', \" \", tweet)\n",
    "                   \n",
    "pre_process_tweet_text(\"Hi @ormandydennis what your thought on #Maandamano\")   \n"
   ]
  }
 ],
 "metadata": {
  "kernelspec": {
   "display_name": "Python 3 (ipykernel)",
   "language": "python",
   "name": "python3"
  },
  "language_info": {
   "codemirror_mode": {
    "name": "ipython",
    "version": 3
   },
   "file_extension": ".py",
   "mimetype": "text/x-python",
   "name": "python",
   "nbconvert_exporter": "python",
   "pygments_lexer": "ipython3",
   "version": "3.9.13"
  }
 },
 "nbformat": 4,
 "nbformat_minor": 5
}
